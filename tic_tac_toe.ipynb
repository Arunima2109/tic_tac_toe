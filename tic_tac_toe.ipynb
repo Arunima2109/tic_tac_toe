{
  "metadata": {
    "kernelspec": {
      "name": "python",
      "display_name": "Python (Pyodide)",
      "language": "python"
    },
    "language_info": {
      "codemirror_mode": {
        "name": "python",
        "version": 3
      },
      "file_extension": ".py",
      "mimetype": "text/x-python",
      "name": "python",
      "nbconvert_exporter": "python",
      "pygments_lexer": "ipython3",
      "version": "3.8"
    }
  },
  "nbformat_minor": 5,
  "nbformat": 4,
  "cells": [
    {
      "id": "9e19d067-a99f-4b19-959d-f5e068a71111",
      "cell_type": "code",
      "source": "import random\n\nboard = [\"-\", \"-\", \"-\",\n         \"-\", \"-\", \"-\",\n         \"-\", \"-\", \"-\"]\ncurrentPlayer = \"X\"\nwinner = None\ngameRunning = True\n\n# print the game board\ndef printBoard(board):\n    print(board[0] + \" | \" + board[1] + \" | \" + board[2])\n    print(\"---------\")\n    print(board[3] + \" | \" + board[4] + \" | \" + board[5])\n    print(\"---------\")\n    print(board[6] + \" | \" + board[7] + \" | \" + board[8])\n    print(\"\\n\")\n\n# take player input\ndef playerInput(board):\n    while True:\n        try:\n            inp = int(input(\"Select a spot 1-9: \"))\n            if inp < 1 or inp > 9:\n                print(\"Invalid input. Choose between 1-9.\")\n                continue\n            if board[inp - 1] == \"-\":\n                board[inp - 1] = currentPlayer\n                break\n            else:\n                print(\"Oops! Spot already taken.\")\n        except ValueError:\n            print(\"Please enter a valid number.\")\n\n# check for horizontal win\ndef checkHorizontal(board):\n    global winner\n    if board[0] == board[1] == board[2] and board[0] != \"-\":\n        winner = board[0]\n        return True\n    elif board[3] == board[4] == board[5] and board[3] != \"-\":\n        winner = board[3]\n        return True\n    elif board[6] == board[7] == board[8] and board[6] != \"-\":\n        winner = board[6]\n        return True\n    return False\n\n# check for vertical win\ndef checkVertical(board):\n    global winner\n    if board[0] == board[3] == board[6] and board[0] != \"-\":\n        winner = board[0]\n        return True\n    elif board[1] == board[4] == board[7] and board[1] != \"-\":\n        winner = board[1]\n        return True\n    elif board[2] == board[5] == board[8] and board[2] != \"-\":\n        winner = board[2]\n        return True\n    return False\n\n# check for diagonal win\ndef checkDiagonal(board):\n    global winner\n    if board[0] == board[4] == board[8] and board[0] != \"-\":\n        winner = board[0]\n        return True\n    elif board[2] == board[4] == board[6] and board[2] != \"-\":\n        winner = board[2]\n        return True\n    return False\n\n# check for win\ndef checkIfWin(board):\n    global gameRunning\n    if checkHorizontal(board) or checkVertical(board) or checkDiagonal(board):\n        printBoard(board)\n        print(f\"The winner is {winner}!\")\n        gameRunning = False\n\n# check for tie\ndef checkIfTie(board):\n    global gameRunning\n    if \"-\" not in board and winner is None:\n        printBoard(board)\n        print(\"It is a tie!\")\n        gameRunning = False\n\n# switch player\ndef switchPlayer():\n    global currentPlayer\n    currentPlayer = \"O\" if currentPlayer == \"X\" else \"X\"\n\n# computer move\ndef computer(board):\n    global gameRunning\n    if gameRunning and currentPlayer == \"O\":\n        while True:\n            print(\"Computers turn \")\n            position = random.randint(0, 8)\n            if board[position] == \"-\":\n                board[position] = \"O\"\n                break\n        switchPlayer()\n\n# main game loop\nwhile gameRunning:\n    printBoard(board)\n    if currentPlayer == \"X\":\n        playerInput(board)\n        checkIfWin(board)\n        checkIfTie(board)\n        switchPlayer()\n    else:\n        computer(board)\n        checkIfWin(board)\n        checkIfTie(board)\n",
      "metadata": {
        "trusted": true
      },
      "outputs": [
        {
          "name": "stdout",
          "output_type": "stream",
          "text": "- | - | -\n---------\n- | - | -\n---------\n- | - | -\n\n\n"
        },
        {
          "output_type": "stream",
          "name": "stdin",
          "text": "Select a spot 1-9:  11\n"
        },
        {
          "name": "stdout",
          "output_type": "stream",
          "text": "Invalid input. Choose between 1-9.\n"
        },
        {
          "output_type": "stream",
          "name": "stdin",
          "text": "Select a spot 1-9:  3\n"
        },
        {
          "name": "stdout",
          "output_type": "stream",
          "text": "- | - | X\n---------\n- | - | -\n---------\n- | - | -\n\n\nComputers turn \n- | - | X\n---------\n- | O | -\n---------\n- | - | -\n\n\n"
        },
        {
          "output_type": "stream",
          "name": "stdin",
          "text": "Select a spot 1-9:  0\n"
        },
        {
          "name": "stdout",
          "output_type": "stream",
          "text": "Invalid input. Choose between 1-9.\n"
        },
        {
          "output_type": "stream",
          "name": "stdin",
          "text": "Select a spot 1-9:  5\n"
        },
        {
          "name": "stdout",
          "output_type": "stream",
          "text": "Oops! Spot already taken.\n"
        },
        {
          "output_type": "stream",
          "name": "stdin",
          "text": "Select a spot 1-9:  6\n"
        },
        {
          "name": "stdout",
          "output_type": "stream",
          "text": "- | - | X\n---------\n- | O | X\n---------\n- | - | -\n\n\nComputers turn \nComputers turn \nComputers turn \n- | - | X\n---------\nO | O | X\n---------\n- | - | -\n\n\n"
        },
        {
          "output_type": "stream",
          "name": "stdin",
          "text": "Select a spot 1-9:  9\n"
        },
        {
          "name": "stdout",
          "output_type": "stream",
          "text": "- | - | X\n---------\nO | O | X\n---------\n- | - | X\n\n\nThe winner is X!\n"
        }
      ],
      "execution_count": 4
    },
    {
      "id": "5a4659e7-cf16-4999-8651-ac6147249975",
      "cell_type": "code",
      "source": "",
      "metadata": {
        "trusted": true
      },
      "outputs": [],
      "execution_count": null
    }
  ]
}